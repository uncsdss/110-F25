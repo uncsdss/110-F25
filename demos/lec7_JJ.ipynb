{
 "cells": [
  {
   "cell_type": "markdown",
   "id": "507130ed-9794-48fc-8afb-b94fb8006825",
   "metadata": {},
   "source": [
    "# Import pandas and read csv file into a Pandas table (DataFrame)"
   ]
  },
  {
   "cell_type": "code",
   "execution_count": null,
   "id": "8a4c126e-c8b4-4984-b542-43e8aee98cbf",
   "metadata": {},
   "outputs": [],
   "source": [
    "import pandas as pd"
   ]
  },
  {
   "cell_type": "code",
   "execution_count": null,
   "id": "8f498fb2-f833-4cf3-a103-72ba08c86fe3",
   "metadata": {},
   "outputs": [],
   "source": [
    "penguins = pd.read_csv('palmer_penguins.csv')\n",
    "penguins.head()"
   ]
  },
  {
   "cell_type": "code",
   "execution_count": null,
   "id": "15c47026-2a1c-4221-9083-a85f440df915",
   "metadata": {},
   "outputs": [],
   "source": [
    "penguins.shape"
   ]
  },
  {
   "cell_type": "code",
   "execution_count": null,
   "id": "8cbf38dd-e71d-48df-9973-d48f30abb751",
   "metadata": {},
   "outputs": [],
   "source": [
    "penguins.Species.unique() #.unique() returns all distinct values in this column, in the order they appear"
   ]
  },
  {
   "cell_type": "markdown",
   "id": "92628a08-9375-4f4a-88d6-0c2c70c855c6",
   "metadata": {},
   "source": [
    "# Individual indexing and slicing\n",
    "\n",
    "Not done very often"
   ]
  },
  {
   "cell_type": "code",
   "execution_count": null,
   "id": "360c8b4d-964b-4940-af5c-a00154d1b144",
   "metadata": {},
   "outputs": [],
   "source": [
    "penguins.loc[2] #select row with row label (index) 2"
   ]
  },
  {
   "cell_type": "code",
   "execution_count": null,
   "id": "0ba146e0-db84-4dca-81c4-fb189836c3f2",
   "metadata": {},
   "outputs": [],
   "source": [
    "penguins.iloc[2] #select the 3rd row from the top"
   ]
  },
  {
   "cell_type": "code",
   "execution_count": null,
   "id": "4272cb8b-3799-4cd3-b78f-95278cccaba8",
   "metadata": {},
   "outputs": [],
   "source": [
    "penguins.drop(index=[2, 3]) #drop rows"
   ]
  },
  {
   "cell_type": "code",
   "execution_count": null,
   "id": "7137eb37-95b5-401a-958c-2ae171408214",
   "metadata": {},
   "outputs": [],
   "source": [
    "penguins.loc[2:10:3] # Slicing using name.loc[start:end:step]"
   ]
  },
  {
   "cell_type": "code",
   "execution_count": null,
   "id": "b10faa23-b0d3-49a4-b611-75bd0d06b62f",
   "metadata": {},
   "outputs": [],
   "source": [
    "penguins.loc[2:6] # note it is name.loc[start:end:step], \"end\" is inclusive"
   ]
  },
  {
   "cell_type": "code",
   "execution_count": null,
   "id": "9cd8181f-b50c-4f70-b50b-ed9c88d9c5c7",
   "metadata": {},
   "outputs": [],
   "source": [
    "penguins.loc[100:]"
   ]
  },
  {
   "cell_type": "code",
   "execution_count": null,
   "id": "208a02bc-02a0-4ee4-bdc1-34c336e4a9b0",
   "metadata": {},
   "outputs": [],
   "source": [
    "penguins.loc[::5]"
   ]
  },
  {
   "cell_type": "code",
   "execution_count": null,
   "id": "67f9ea8e-370f-4d58-9ad3-c9791e45e23a",
   "metadata": {},
   "outputs": [],
   "source": [
    "penguins.iloc[1:4] # .iloc is similar to list[start:stop:step], start included, stop excluded"
   ]
  },
  {
   "cell_type": "code",
   "execution_count": null,
   "id": "0923f0e0-95df-44f8-9261-0fef66108cab",
   "metadata": {},
   "outputs": [],
   "source": [
    "penguins.loc[1:4]"
   ]
  },
  {
   "cell_type": "markdown",
   "id": "f4afe046-bfb2-45c5-aaea-b2c416a8b92c",
   "metadata": {},
   "source": [
    "# Boolean indexing"
   ]
  },
  {
   "cell_type": "markdown",
   "id": "f27e2ce7-3c09-4b64-880a-7a906e5ac3a6",
   "metadata": {},
   "source": [
    "**Can we select rows based on whether their values satisfy certain conditions? (Avoid using \"for loop + if\")**"
   ]
  },
  {
   "cell_type": "markdown",
   "id": "742e6a92-1278-449d-becd-f34ad58674bf",
   "metadata": {},
   "source": [
    "**Task: Check which penguins have a culmen (bill) length less than 40 mm.\n",
    "This creates a list of \"yes/no\" answers for every penguin in the dataset.**"
   ]
  },
  {
   "cell_type": "code",
   "execution_count": null,
   "id": "e62c3117-e60f-4310-a59b-a02bb95a978f",
   "metadata": {},
   "outputs": [],
   "source": [
    "# If we didn't have boolean indexing...\n",
    "\n",
    "df = pd.DataFrame(columns = penguins.columns)\n",
    "\n",
    "for row_num in penguins.index:\n",
    "    row = penguins.loc[row_num]\n",
    "    if row['Culmen Length (mm)'] < 40:\n",
    "        df.loc[len(df)] = row\n",
    "df"
   ]
  },
  {
   "cell_type": "markdown",
   "id": "ac5917d3-ee74-4a30-87cb-e3be5e5369be",
   "metadata": {},
   "source": [
    "**The following line creates a new Series (like an array) of True/False values.** `penguins['Culmen Length (mm)'] < 40`\n",
    " - The size of this Series is the same as the number of rows in the DataFrame.\n",
    " - Each row gets True if the penguin's culmen (bill) length < 40 mm, otherwise it gets False."
   ]
  },
  {
   "cell_type": "code",
   "execution_count": null,
   "id": "56f41f9d-d77a-4f09-8b24-ffb1dafe4dd3",
   "metadata": {},
   "outputs": [],
   "source": [
    "penguins['Culmen Length (mm)'] < 40 "
   ]
  },
  {
   "cell_type": "markdown",
   "id": "4de3f96a-fb0b-4e45-b8c5-785dee4cbe14",
   "metadata": {},
   "source": [
    "*Of course you can assign this array (the True/False results) into a new variable:*"
   ]
  },
  {
   "cell_type": "code",
   "execution_count": null,
   "id": "40bba4ef-0606-45ba-a9e1-9f3c87961851",
   "metadata": {},
   "outputs": [],
   "source": [
    "culm = (penguins['Culmen Length (mm)'] < 40) \n",
    "culm "
   ]
  },
  {
   "cell_type": "markdown",
   "id": "7ae8c0e2-163e-419b-8226-196f3a313cd8",
   "metadata": {},
   "source": [
    "**Boolean indexing returns a table with only the rows for which the corresponding bool is True:**"
   ]
  },
  {
   "cell_type": "code",
   "execution_count": null,
   "id": "bf7735fa-0c0b-4246-8624-916260dee18c",
   "metadata": {},
   "outputs": [],
   "source": [
    "penguins[culm] #recall we use [] for indexing, so this is called boolean indexing"
   ]
  },
  {
   "cell_type": "markdown",
   "id": "d6fe58ef-e32d-44a9-9533-cf3006bf34af",
   "metadata": {},
   "source": [
    "**Summing an array or list of bool values will count the True values only.** For example, `sum([1 , 0 , 1])  -> 2`, `sum([True, False, True])  -> 2`\n"
   ]
  },
  {
   "cell_type": "code",
   "execution_count": null,
   "id": "c3724de4-2b57-49e5-ba8a-0196ef8222ee",
   "metadata": {},
   "outputs": [],
   "source": [
    "sum(culm)"
   ]
  },
  {
   "cell_type": "markdown",
   "id": "6fc68935-b92f-4f9d-88ef-03f712e4d792",
   "metadata": {},
   "source": [
    "**Involving a new condition:**"
   ]
  },
  {
   "cell_type": "code",
   "execution_count": null,
   "id": "4db18b73-f800-49ee-b157-617d70a71a6d",
   "metadata": {},
   "outputs": [],
   "source": [
    "torg = (penguins['Island'] == 'Torgersen')\n",
    "torg"
   ]
  },
  {
   "cell_type": "code",
   "execution_count": null,
   "id": "a2d9b255-9691-4308-9389-fbe55981ac84",
   "metadata": {},
   "outputs": [],
   "source": [
    "sum(torg)"
   ]
  },
  {
   "cell_type": "code",
   "execution_count": null,
   "id": "ead2a55c-8861-4594-9955-f70f0ac7f3a1",
   "metadata": {},
   "outputs": [],
   "source": [
    "penguins[torg].head()"
   ]
  },
  {
   "cell_type": "markdown",
   "id": "0b748687-ba9f-4fbb-b827-6ddcd49fa489",
   "metadata": {},
   "source": [
    "**Now what if we want to have multiple conditions? (Go back to the slides)**"
   ]
  },
  {
   "cell_type": "code",
   "execution_count": null,
   "id": "f5df5b8f-8bf3-48ae-b40e-819a7d255229",
   "metadata": {},
   "outputs": [],
   "source": [
    "sum(culm & torg) # Elementwise logical operator \"AND\""
   ]
  },
  {
   "cell_type": "code",
   "execution_count": null,
   "id": "97ded742-9f43-4b29-b063-2199c75bab82",
   "metadata": {},
   "outputs": [],
   "source": [
    "culm_and_torg = penguins[culm & torg]"
   ]
  },
  {
   "cell_type": "code",
   "execution_count": null,
   "id": "e25c0169-24ea-4efe-9efa-e570b181dd45",
   "metadata": {},
   "outputs": [],
   "source": [
    "culm_and_torg.head()"
   ]
  },
  {
   "cell_type": "code",
   "execution_count": null,
   "id": "ec03d32c-7797-4e79-bbb2-72a2056ed2a1",
   "metadata": {},
   "outputs": [],
   "source": [
    "culm_and_torg.iloc[2] # 3rd from the top"
   ]
  },
  {
   "cell_type": "code",
   "execution_count": null,
   "id": "662848f4-23bd-478f-a506-1b4b03237cfe",
   "metadata": {},
   "outputs": [],
   "source": [
    "culm_and_torg.loc[2] # row label (index) is 2 ... now you get the difference between .iloc and .loc"
   ]
  },
  {
   "cell_type": "code",
   "execution_count": null,
   "id": "0da2ebc7-7c1b-4604-b960-17d690746f10",
   "metadata": {},
   "outputs": [],
   "source": [
    "sum(culm | torg) # Elementwise logical operator \"OR\""
   ]
  },
  {
   "cell_type": "code",
   "execution_count": null,
   "id": "819c1cc0-8898-419a-bc38-f1329a59f561",
   "metadata": {},
   "outputs": [],
   "source": [
    "penguins[culm | torg]"
   ]
  },
  {
   "cell_type": "markdown",
   "id": "f3257bdd-708a-4cc5-98d3-e31197ecf8c9",
   "metadata": {},
   "source": [
    "**How do we combine three conditions?**"
   ]
  },
  {
   "cell_type": "code",
   "execution_count": null,
   "id": "186e7020-b058-4022-b04a-8f8769a9fac5",
   "metadata": {},
   "outputs": [],
   "source": [
    "chonk = (penguins['Body Mass (g)'] > 5000)\n",
    "sum(chonk)"
   ]
  },
  {
   "cell_type": "code",
   "execution_count": null,
   "id": "0ca62ffc-d7f8-4972-a197-d8ec0b3cd0a0",
   "metadata": {},
   "outputs": [],
   "source": [
    "sum(culm & torg | chonk) # Confusing… Order matters! Recommend doing two at a time."
   ]
  },
  {
   "cell_type": "code",
   "execution_count": null,
   "id": "e223f8a1-5038-4de3-b5fb-ebe0687b83a9",
   "metadata": {},
   "outputs": [],
   "source": [
    "sum((culm & torg) | chonk)"
   ]
  },
  {
   "cell_type": "code",
   "execution_count": null,
   "id": "3c33a5f4-b479-4138-816f-7cec146f23e6",
   "metadata": {},
   "outputs": [],
   "source": [
    "sum(culm & (torg | chonk))"
   ]
  },
  {
   "cell_type": "code",
   "execution_count": null,
   "id": "8fec349c-777f-4009-a968-e77264e499fc",
   "metadata": {},
   "outputs": [],
   "source": [
    "sum(culm & torg & chonk)"
   ]
  },
  {
   "cell_type": "markdown",
   "id": "408ffecc-6e44-4fd1-9aaa-4c20b8a0a686",
   "metadata": {},
   "source": [
    "# Groupby"
   ]
  },
  {
   "cell_type": "code",
   "execution_count": null,
   "id": "66fa428f-a206-40db-8bdf-14cdc3d1dc28",
   "metadata": {},
   "outputs": [],
   "source": [
    "nba = pd.read_csv('nba_salaries.csv')\n",
    "nba"
   ]
  },
  {
   "cell_type": "markdown",
   "id": "213e288c-0295-40ce-9b72-01ca9caab6fa",
   "metadata": {},
   "source": [
    "**We can (for example) select all nba players with position PG, and calculate their average salary.**"
   ]
  },
  {
   "cell_type": "markdown",
   "id": "e644e9ff-7ca1-4229-b65a-3f57cfa35675",
   "metadata": {},
   "source": [
    "**What if we want to find which position has the highest avg salary?**"
   ]
  },
  {
   "cell_type": "code",
   "execution_count": null,
   "id": "dba93cc4-09fe-4cd2-8ecc-91de4bd6dd2d",
   "metadata": {},
   "outputs": [],
   "source": [
    "# if we didn't use groupby...\n",
    "\n",
    "for pos in nba.position.unique():\n",
    "    pos_bool = (nba.position==pos)\n",
    "    print(pos, nba[pos_bool].salary.mean())"
   ]
  },
  {
   "cell_type": "markdown",
   "id": "af4884db-3a77-472e-b64d-fb07aef50327",
   "metadata": {},
   "source": [
    "**Easier way: Groupby(Split – Apply – Combine)**"
   ]
  },
  {
   "cell_type": "code",
   "execution_count": null,
   "id": "efb414b4-59bf-4027-93f1-0f985f2df9ea",
   "metadata": {},
   "outputs": [],
   "source": [
    "# easy living with groupby for easy/common operations like mean\n",
    "nba.groupby('position')[\"salary\"].mean() #df.groupby(\"split_column\")[\"apply_column\"].some_aggregation()"
   ]
  },
  {
   "cell_type": "code",
   "execution_count": null,
   "id": "9b67c77a-404d-4026-aac5-33653064dcc0",
   "metadata": {},
   "outputs": [],
   "source": [
    "nba.groupby('position').salary.mean() # recall you have two ways to select columns, so this is same as the above line"
   ]
  },
  {
   "cell_type": "markdown",
   "id": "d2810159-9d96-4c2a-a2a7-c5c55d57c2e4",
   "metadata": {},
   "source": [
    "**More aggregation functions can be found in slides, for example** `.max()`, `.median()`, etc "
   ]
  },
  {
   "cell_type": "code",
   "execution_count": null,
   "id": "b5ffce56-ea35-42e2-8623-2027722a9048",
   "metadata": {},
   "outputs": [],
   "source": [
    "# you can add even more stuff\n",
    "nba.groupby('position').salary.mean().round()"
   ]
  },
  {
   "cell_type": "markdown",
   "id": "5b4a83dd-d38b-4d71-b8fe-6ae946464d28",
   "metadata": {},
   "source": [
    "**You can also use \"for loop + group by\" (Read it your self)**"
   ]
  },
  {
   "cell_type": "code",
   "execution_count": null,
   "id": "289c5563-bf93-4a05-96ea-a3c1d4a3c3ef",
   "metadata": {},
   "outputs": [],
   "source": [
    "# for loop + group by\n",
    "for pos, sub_nba in nba.groupby('position'):\n",
    "    print(pos, sub_nba.salary.mean())\n",
    "# Loop through the groups created by \"groupby('position')\".\n",
    "# For each position (pos), we get a smaller DataFrame (sub_nba).\n",
    "# Then we calculate and print the average salary for that position."
   ]
  },
  {
   "cell_type": "markdown",
   "id": "523169a9-f926-48e4-9d3b-aebfcdbbc2da",
   "metadata": {},
   "source": [
    "# Missing values (NAs)"
   ]
  },
  {
   "cell_type": "code",
   "execution_count": null,
   "id": "774f1893-8e9d-4bbc-a877-0264eb5bc51b",
   "metadata": {},
   "outputs": [],
   "source": [
    "penguins.info() #gives us an idea how many NAs there are per column"
   ]
  },
  {
   "cell_type": "markdown",
   "id": "fc8f6616-3e1e-4c41-856d-565b2ce480bd",
   "metadata": {},
   "source": [
    "**How can we handle missing values (NAs)?**\n",
    "1) Drop rows with any NAs → simple and often works well.\n",
    "   (You lose some data, but the rest is clean.)\n",
    "2) Fill NAs with a value (e.g., 0 or column mean).\n",
    "   (Be careful! This can change the meaning of your data.)\n",
    "3) Drop entire columns if they have too many NAs.\n",
    "   (No point keeping a column that is mostly empty.)"
   ]
  },
  {
   "cell_type": "code",
   "execution_count": null,
   "id": "3b64bcad-66a1-49ed-853b-6ba7a90922e3",
   "metadata": {},
   "outputs": [],
   "source": [
    "penguins.isna() #creates a DataFrame of the same shape, but filled with True/False values: - True means the cell is missing (NA/NaN) - False means the cell has a valid value"
   ]
  },
  {
   "cell_type": "code",
   "execution_count": null,
   "id": "37d97850-580c-4ee4-a179-80ebaeb69dc6",
   "metadata": {},
   "outputs": [],
   "source": [
    "penguins.notna()"
   ]
  },
  {
   "cell_type": "code",
   "execution_count": null,
   "id": "48d31159-b9b1-4274-96f9-100048ccfc29",
   "metadata": {},
   "outputs": [],
   "source": [
    "penguins.dropna() # Drop rows with any missing values"
   ]
  },
  {
   "cell_type": "code",
   "execution_count": null,
   "id": "0e267e42-7838-4728-8b7b-d22b5cc833e9",
   "metadata": {},
   "outputs": [],
   "source": [
    "penguins.dropna().shape"
   ]
  },
  {
   "cell_type": "code",
   "execution_count": null,
   "id": "2a5f09e7-9b82-486b-885f-3500774e3486",
   "metadata": {},
   "outputs": [],
   "source": [
    "penguins.dropna(subset=['Culmen Length (mm)', 'Island']) # Drop rows only if these columns have missing values，remember to assign it to a new variable"
   ]
  },
  {
   "cell_type": "code",
   "execution_count": null,
   "id": "b7868031-0762-4668-9855-9f9ea555b2f4",
   "metadata": {},
   "outputs": [],
   "source": [
    "penguins.dropna(subset=['Culmen Length (mm)', 'Island']).shape"
   ]
  },
  {
   "cell_type": "markdown",
   "id": "aa3a80a4-53f8-457c-97de-3316e6b8145d",
   "metadata": {},
   "source": [
    "# Sorting rows"
   ]
  },
  {
   "cell_type": "code",
   "execution_count": null,
   "id": "39aff07e-4ec4-4061-b345-a182442723cd",
   "metadata": {},
   "outputs": [],
   "source": [
    "nba.sort_values(by='salary') # sort the rows according to the given column “salary” (smallest → largest)"
   ]
  },
  {
   "cell_type": "code",
   "execution_count": null,
   "id": "1471bebe-94ea-4949-8bb6-0b398a43e007",
   "metadata": {},
   "outputs": [],
   "source": [
    "nba.sort_values(by='salary', ascending=False) # Sort rows by salary (largest → smallest)"
   ]
  },
  {
   "cell_type": "code",
   "execution_count": null,
   "id": "c859fa07-3d38-46d6-85b6-e3a1fd968188",
   "metadata": {},
   "outputs": [],
   "source": [
    "nba.sort_values(by=['salary', 'season']) # Sort rows first by salary, then by season (salary is the primary key)"
   ]
  },
  {
   "cell_type": "code",
   "execution_count": null,
   "id": "f32d4478-bc51-4a28-afbe-d605d4c010b1",
   "metadata": {},
   "outputs": [],
   "source": [
    "nba.sort_values(by=['season', 'salary']) # Sort rows first by season, then by salary (season is the primary key)"
   ]
  },
  {
   "cell_type": "markdown",
   "id": "0b96219e-7312-4428-985b-337dc4543927",
   "metadata": {},
   "source": [
    "# Read-it-yourself questions \n",
    "\n",
    "## Penguins\n",
    "\n",
    "a) What is the average `Body Mass (g)` of `Female` penguins in `Dream` island?\n",
    "\n",
    "b) What is the percentage of `Female` penguins in `Adelie` species? \n",
    "\n",
    "c) What is the percentage of chonky penguins per species? Chonky is defined as `Body Mass` over 5kg.\n"
   ]
  },
  {
   "cell_type": "code",
   "execution_count": null,
   "id": "4c13ee23-83ce-49c2-90b9-77b38d718904",
   "metadata": {},
   "outputs": [],
   "source": [
    "# Your code here"
   ]
  },
  {
   "cell_type": "code",
   "execution_count": null,
   "id": "6a871bae-08d7-451c-80b4-a4cee25eb9a5",
   "metadata": {},
   "outputs": [],
   "source": [
    "# Your code here"
   ]
  },
  {
   "cell_type": "code",
   "execution_count": null,
   "id": "efa7ce4e-f4aa-4b5d-8038-a2de72827823",
   "metadata": {},
   "outputs": [],
   "source": [
    "# Your code here"
   ]
  },
  {
   "cell_type": "markdown",
   "id": "585a3390-6403-4392-b556-f5759bbf9f99",
   "metadata": {},
   "source": [
    "## NBA\n",
    "\n",
    "a) Add a new column of the salary in units of 1M. Round to 2 digits after decimal point.\n",
    "\n",
    "b) Find the names of all point guards (PG) who made more than $15M\n",
    "\n",
    "c) After evaluating these expressions in order, what's the result?\n",
    "\n",
    "```python\n",
    "nba = pd.read_csv('nba_salaries.csv')\n",
    "nba.drop(columns='position')\n",
    "nba.shape\n",
    "```\n"
   ]
  },
  {
   "cell_type": "code",
   "execution_count": null,
   "id": "ca4b68b0-8632-4485-aac7-f7ba65c3bc2c",
   "metadata": {},
   "outputs": [],
   "source": [
    "# Your code here"
   ]
  },
  {
   "cell_type": "code",
   "execution_count": null,
   "id": "1f66b5e9-9599-4f69-9531-d9b0d6cffbc7",
   "metadata": {},
   "outputs": [],
   "source": [
    "# Your code here"
   ]
  },
  {
   "cell_type": "code",
   "execution_count": null,
   "id": "15a99ef2-2ef3-43be-b110-9f615ed60ee6",
   "metadata": {},
   "outputs": [],
   "source": [
    "# Your code here"
   ]
  }
 ],
 "metadata": {
  "kernelspec": {
   "display_name": "Python 3 (ipykernel)",
   "language": "python",
   "name": "python3"
  },
  "language_info": {
   "codemirror_mode": {
    "name": "ipython",
    "version": 3
   },
   "file_extension": ".py",
   "mimetype": "text/x-python",
   "name": "python",
   "nbconvert_exporter": "python",
   "pygments_lexer": "ipython3",
   "version": "3.12.6"
  }
 },
 "nbformat": 4,
 "nbformat_minor": 5
}
