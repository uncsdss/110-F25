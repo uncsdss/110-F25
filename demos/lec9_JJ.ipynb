{
 "cells": [
  {
   "cell_type": "code",
   "execution_count": null,
   "id": "9b481d4e-4ccd-4bb2-8ace-2250129518a3",
   "metadata": {},
   "outputs": [],
   "source": [
    "import seaborn as sns\n",
    "import pandas as pd"
   ]
  },
  {
   "cell_type": "code",
   "execution_count": null,
   "id": "d730c841-c821-4dff-bb86-ebae66649d7e",
   "metadata": {},
   "outputs": [],
   "source": [
    "movies = pd.read_csv('top_movies_2017.csv')\n",
    "movies"
   ]
  },
  {
   "cell_type": "markdown",
   "id": "ee47b5a5-241a-4f19-862b-b651b6b62839",
   "metadata": {},
   "source": [
    "**Create a new column showing each movie’s age in 2025.**"
   ]
  },
  {
   "cell_type": "code",
   "execution_count": null,
   "id": "f9796e99",
   "metadata": {},
   "outputs": [],
   "source": [
    "movies['Age'] = 2025 - movies['Year']\n",
    "movies"
   ]
  },
  {
   "cell_type": "markdown",
   "id": "627f4379-5a6c-40ce-8f72-550ebfc4d963",
   "metadata": {},
   "source": [
    "# Bar plot"
   ]
  },
  {
   "cell_type": "markdown",
   "id": "e96d7e98-d33a-400f-9449-2e6579c17e2f",
   "metadata": {},
   "source": [
    "### Show the relationship between a **categorical attribute** and a **numerical attribute**."
   ]
  },
  {
   "cell_type": "markdown",
   "id": "13951a11-089d-488e-a2b6-faf666e53619",
   "metadata": {},
   "source": [
    "**Try a bar plot between a categorical variable (`Title`) and a numerical variable (`Age`)**"
   ]
  },
  {
   "cell_type": "code",
   "execution_count": null,
   "id": "a559b240-ab8b-4d22-9851-dcf8345feba8",
   "metadata": {},
   "outputs": [],
   "source": [
    "sns.barplot(data=movies, \n",
    "            x='Title', \n",
    "            y='Age')\n",
    "\n",
    "# what's wrong with this??"
   ]
  },
  {
   "cell_type": "markdown",
   "id": "c094527d-bf94-4e10-ab08-490bdd7b31b2",
   "metadata": {},
   "source": [
    "The chart is almost unreadable because there are **too many categories** (200 movie titles).  \n",
    "This shows a common issue: not every dataset can be visualized in full."
   ]
  },
  {
   "cell_type": "markdown",
   "id": "984808a4-b502-4751-8190-95c0f15bb3a0",
   "metadata": {},
   "source": [
    "A quick fix is to **subset the data**. Here we take the first 10 movies (`.head(10)`).  "
   ]
  },
  {
   "cell_type": "code",
   "execution_count": null,
   "id": "5efc6a67-2a78-4bc0-890f-4e83ea9285ec",
   "metadata": {},
   "outputs": [],
   "source": [
    "ten_movies = movies.head(10)\n",
    "\n",
    "sns.barplot(data=ten_movies, \n",
    "            y='Title', \n",
    "            x='Age')"
   ]
  },
  {
   "cell_type": "markdown",
   "id": "c0bdc21f-8090-40c2-8b48-430235afd461",
   "metadata": {},
   "source": [
    "Now the chart is **readable**, but the choice of movies is arbitrary."
   ]
  },
  {
   "cell_type": "markdown",
   "id": "3b626a87-f555-40f8-a813-91578d6cb6b7",
   "metadata": {},
   "source": [
    "Instead of simply taking the first 10 rows, we can choose a subset based on a criterion.  \n",
    "Example: the **10 oldest movies** in the dataset."
   ]
  },
  {
   "cell_type": "markdown",
   "id": "e59924cc-1000-488b-be26-ebf01cdc6884",
   "metadata": {},
   "source": [
    "### Task: Find the **Age** of **top-10 oldest** movies."
   ]
  },
  {
   "cell_type": "code",
   "execution_count": null,
   "id": "b7510fe7-bd81-4608-9036-cbc521c5e802",
   "metadata": {},
   "outputs": [],
   "source": [
    "# more thought into picking which 10 movies to show\n",
    "\n",
    "ten_oldest_movies = movies.sort_values('Age', ascending=False).head(10)\n",
    "\n",
    "ten_oldest_movies"
   ]
  },
  {
   "cell_type": "code",
   "execution_count": null,
   "id": "16fe65ae-750b-45c2-8543-482fa600ee7f",
   "metadata": {},
   "outputs": [],
   "source": [
    "sns.barplot(data=ten_oldest_movies, \n",
    "            y='Title', \n",
    "            x='Age')"
   ]
  },
  {
   "cell_type": "code",
   "execution_count": null,
   "id": "4a6ad7af-630e-4f08-b4ee-1bfce024cc31",
   "metadata": {},
   "outputs": [],
   "source": [
    "# sns.barplot(data=ten_oldest_movies, \n",
    "#             y='Title', \n",
    "#             x='Age',\n",
    "#            color='tab:blue') # you can do this if you don't like rainbows \n",
    "\n",
    "# # https://matplotlib.org/stable/gallery/color/named_colors.html#base-colors"
   ]
  },
  {
   "cell_type": "markdown",
   "id": "ee47dc41-8948-40a6-b243-48c0e07bf941",
   "metadata": {},
   "source": [
    "### Task: Find the **Age** of **top-10 grossing** movies."
   ]
  },
  {
   "cell_type": "markdown",
   "id": "5af6c285-cab3-49cc-a2c2-99cabcd65d03",
   "metadata": {},
   "source": [
    "You may want to sort the dataset by \"Gross\" column, using `.sort_values(\"Gross\")`"
   ]
  },
  {
   "cell_type": "code",
   "execution_count": null,
   "id": "f2b0cc6d",
   "metadata": {},
   "outputs": [],
   "source": [
    "movies.sort_values('Gross').head(10)"
   ]
  },
  {
   "cell_type": "markdown",
   "id": "797b11cd-336d-448c-a011-3a180fc9a88c",
   "metadata": {},
   "source": [
    "Remember: `sort_values` is ascending by default (smallest → largest), thus in order to find the movies with top-10 grossing, you need `.sort_values('Gross', ascending=False)`"
   ]
  },
  {
   "cell_type": "code",
   "execution_count": null,
   "id": "10b47bda",
   "metadata": {},
   "outputs": [],
   "source": [
    "highest_grossing_movies = movies.sort_values('Gross',ascending=False)\n",
    "highest_grossing_movies.head(10)"
   ]
  },
  {
   "cell_type": "code",
   "execution_count": null,
   "id": "e2ecead7-9264-41d1-897d-004c60554578",
   "metadata": {},
   "outputs": [],
   "source": [
    "sns.barplot(data=highest_grossing_movies.head(10), \n",
    "            x='Age', \n",
    "            y='Title')"
   ]
  },
  {
   "cell_type": "markdown",
   "id": "42a6f2fc-0653-4df6-9b2a-b4c959d59693",
   "metadata": {},
   "source": [
    "From above figure we can say: Many of the highest-grossing movies are very young (less than 20 years old). Exceptions include *Titanic* (1997) and *Star Wars: Episode I* (1999), which are older but still remain in the top list.\n",
    "\n",
    "But remember, when comparing money across time, consider inflation. Let's find the **Age of top-10 grossing (adjusted) movies**."
   ]
  },
  {
   "cell_type": "code",
   "execution_count": null,
   "id": "f9dd52dd-425f-4ab9-8282-5181413a13af",
   "metadata": {},
   "outputs": [],
   "source": [
    "highest_adjgrossing_movies = movies.sort_values('Gross (Adjusted)',ascending=False)\n",
    "sns.barplot(data=highest_adjgrossing_movies.head(10), \n",
    "            x='Age', \n",
    "            y='Title')"
   ]
  },
  {
   "cell_type": "markdown",
   "id": "bc533047-6350-4425-9ad9-13b40ce49421",
   "metadata": {},
   "source": [
    "Once we adjust for inflation, **older classics rise to the top**:  *Gone with the Wind*, *The Sound of Music*, *Snow White*, etc.  "
   ]
  },
  {
   "cell_type": "markdown",
   "id": "728c66da-14ea-4931-bab7-06ad2d6c584a",
   "metadata": {},
   "source": [
    "### Categorical distribution (you can try `sns.countplot`)\n",
    "\n",
    "If you want to show the **count** of each category, you don’t need to calculate it yourself then use `sns.barplot`.  \n",
    "\n",
    "👉 Use `sns.countplot`, which counts and plots in one step!"
   ]
  },
  {
   "cell_type": "markdown",
   "id": "193ecc29-f170-4c8d-b8f5-ffc7a703eb34",
   "metadata": {},
   "source": [
    "**Task**: Count how many movies each **Studio** has. This shows the distribution of a categorical variable (called categorical distribution).\n",
    "\n",
    "If you insist to use `sns.barplot`, you would need to..."
   ]
  },
  {
   "cell_type": "code",
   "execution_count": null,
   "id": "7a5b214c-4125-49d0-995f-ea1d71291416",
   "metadata": {},
   "outputs": [],
   "source": [
    "movies.Studio.value_counts()"
   ]
  },
  {
   "cell_type": "code",
   "execution_count": null,
   "id": "4c7a8659-46de-4c63-9f41-912a150499aa",
   "metadata": {},
   "outputs": [],
   "source": [
    "sns.barplot(data=movies.Studio.value_counts())"
   ]
  },
  {
   "cell_type": "markdown",
   "id": "75f68c54-45f9-4e36-a5aa-984bd7f56bd0",
   "metadata": {},
   "source": [
    "Note: Why does `sns.barplot(data=movies.Studio.value_counts())` can give you a result?  \n",
    "\n",
    "- `value_counts()` returns a **pandas Series** with:  \n",
    "  - **Index** = category (Studio names)  \n",
    "  - **Values** = counts  \n",
    "  - **Name** = \"count\" (default)  \n",
    "\n",
    "- Seaborn can automatically use:  \n",
    "  - **Index** → x-axis  \n",
    "  - **Values** → y-axis  \n",
    "  - **Name** → axis label  \n",
    "\n",
    "⚠️ But this only works nicely because the Series has both **index** and **name**.  \n",
    "👉 Safer (and clearer) to pass a DataFrame into `sns.barplot`."
   ]
  },
  {
   "cell_type": "code",
   "execution_count": null,
   "id": "30f19530-18de-47f7-ba4e-89f16a65b022",
   "metadata": {},
   "outputs": [],
   "source": [
    "studio_counts = movies.Studio.value_counts().reset_index() # value_counts() gives a Series; reset_index() converts it into a DataFrame\n",
    "studio_counts.columns = ['Studio', 'Count']  # Rename the two columns: first = Studio name, second = Count\n",
    "\n",
    "sns.barplot(data=studio_counts, y='Studio', x='Count')"
   ]
  },
  {
   "cell_type": "markdown",
   "id": "7d9d6f41-bf96-4ab4-a639-7627f1bcfceb",
   "metadata": {},
   "source": [
    "*Simpler way*: `sns.countplot` automatically counts categories, no need for `value_counts`!"
   ]
  },
  {
   "cell_type": "code",
   "execution_count": null,
   "id": "dcae38ff-8811-478e-afa7-1911ff78e64d",
   "metadata": {},
   "outputs": [],
   "source": [
    "sns.countplot(data=movies, \n",
    "              x='Studio') # Vertical bars"
   ]
  },
  {
   "cell_type": "code",
   "execution_count": null,
   "id": "c04db852-130e-4eba-a767-dba736aa8013",
   "metadata": {},
   "outputs": [],
   "source": [
    "sns.countplot(data=movies, \n",
    "              y='Studio') # Horizontal bars"
   ]
  },
  {
   "cell_type": "markdown",
   "id": "1f6cf298-3433-4c22-bfa4-616ea3764346",
   "metadata": {},
   "source": [
    "By default, categories appear in the order they show up in the dataset. This order is usually not meaningful.  \n",
    "\n",
    "We can sort them by frequency using:  `order = movies.Studio.value_counts().index` which is using `order = DataFrame.Column.value_counts().index`"
   ]
  },
  {
   "cell_type": "code",
   "execution_count": null,
   "id": "2bf0ed28-5b56-478b-a3d1-972d559e6006",
   "metadata": {},
   "outputs": [],
   "source": [
    "sns.countplot(data=movies, \n",
    "              y='Studio', \n",
    "              order=movies.Studio.value_counts().index)"
   ]
  },
  {
   "cell_type": "markdown",
   "id": "0230f87d-682f-4d7c-a0d7-269c0c07119b",
   "metadata": {},
   "source": [
    "You can also reverse the order with:  `movies.Studio.value_counts(ascending=True).index`"
   ]
  },
  {
   "cell_type": "code",
   "execution_count": null,
   "id": "53b16d87-7637-4338-920d-27b125d28e6b",
   "metadata": {},
   "outputs": [],
   "source": [
    "sns.countplot(data=movies, \n",
    "              y='Studio', \n",
    "              order=movies.Studio.value_counts(ascending=True).index,\n",
    "             color='tab:blue')"
   ]
  },
  {
   "cell_type": "markdown",
   "id": "903fb01b-9f68-48e9-951b-7f86b5088f6d",
   "metadata": {},
   "source": [
    "# Histogram: Dealing with Numerical distribution"
   ]
  },
  {
   "cell_type": "markdown",
   "id": "bfd5bb47-cc4a-4c81-8554-3850b10e7a7a",
   "metadata": {},
   "source": [
    "When we want to study the distribution of a **numerical variable** (like `Age`),  we use a histogram by calling `sns.histplot`. \n",
    "\n",
    "This groups values into bins and shows how many data points fall in each bin."
   ]
  },
  {
   "cell_type": "code",
   "execution_count": null,
   "id": "89f46fa3",
   "metadata": {},
   "outputs": [],
   "source": [
    "sns.histplot(data=movies, x='Age')"
   ]
  },
  {
   "cell_type": "markdown",
   "id": "e03bdd15-e2ec-4f68-9eab-d4f375c697a3",
   "metadata": {},
   "source": [
    "This shows the distribution of movie ages.  \n",
    "Most movies in the dataset are between **10–40 years old**, but some are much older.  \n",
    "Default bins may hide details, so we might want to explore different bin sizes."
   ]
  },
  {
   "cell_type": "markdown",
   "id": "31076bd5-5f94-4da1-a91d-c8f1c1df2cd6",
   "metadata": {},
   "source": [
    "**Step: Quick summary statistics**: To better understand the numerical column, we can use `.describe()` to check the **count, mean, min, max, and quartiles**."
   ]
  },
  {
   "cell_type": "code",
   "execution_count": null,
   "id": "f555fb28",
   "metadata": {},
   "outputs": [],
   "source": [
    "movies['Age'].describe()"
   ]
  },
  {
   "cell_type": "markdown",
   "id": "e8656332-b778-48b8-9094-c0188ac55d39",
   "metadata": {},
   "source": [
    "This tells us:  \n",
    "- There are 200 movies.  \n",
    "- The average age is ~37 years.  \n",
    "- The oldest movie is 104 years old.  \n",
    "This helps us choose reasonable bin ranges for the histogram."
   ]
  },
  {
   "cell_type": "markdown",
   "id": "e2181fce-2143-456e-9877-6e28d9bc0ad7",
   "metadata": {},
   "source": [
    "**Step: Custom bins**: Instead of letting seaborn decide bin sizes, we can **control the bin edges**.\n",
    "\n",
    "For example, bins of size 10 years (`range(0,110,10)`)."
   ]
  },
  {
   "cell_type": "code",
   "execution_count": null,
   "id": "426a6486",
   "metadata": {},
   "outputs": [],
   "source": [
    "sns.histplot(data=movies, x='Age', bins = range(0,110,10)) # range goes up to but not including!"
   ]
  },
  {
   "cell_type": "markdown",
   "id": "cad0b962-cd12-46e3-8b89-5d4c0bd4ac8f",
   "metadata": {},
   "source": [
    "Now the histogram is grouped by decades (0–10, 10–20, …). This makes it easier to see how many movies belong to each decade range.\n",
    "\n",
    "But wait, the maximum is 104, where is it in the histogram??\n",
    "\n",
    "Remember: `range(start, stop, step)` goes **up to but not including** the stop value. So idealy we should set `range(0,111,10)`."
   ]
  },
  {
   "cell_type": "code",
   "execution_count": null,
   "id": "acfcb690-74d9-4206-b284-82d5196f778c",
   "metadata": {},
   "outputs": [],
   "source": [
    "sns.histplot(data=movies, x='Age', bins = range(0,111,10))"
   ]
  },
  {
   "cell_type": "markdown",
   "id": "7ab7b0b2-2902-4efd-9878-52472f587aef",
   "metadata": {},
   "source": [
    "Now the last bin correctly includes movies up to age 104.  \n",
    "\n",
    "⚠️ Always check whether your bin range covers the **maximum value** in the data!"
   ]
  },
  {
   "cell_type": "markdown",
   "id": "9dee784c-4186-4317-aef6-61d95061ca9d",
   "metadata": {},
   "source": [
    "**Custom bin edges**: We can also define bins manually, not just with `range()`.  \n",
    "Here we create bins that group movies into age categories like 0–5, 5–10, 10–15, 15-25 etc."
   ]
  },
  {
   "cell_type": "code",
   "execution_count": null,
   "id": "d65fe77e",
   "metadata": {},
   "outputs": [],
   "source": [
    "my_bins = [0, 5, 10, 15, 25, 40, 65, 104] # bins also go up to but not including!\n",
    "sns.histplot(data=movies, x='Age', bins = my_bins)"
   ]
  },
  {
   "cell_type": "markdown",
   "id": "9bed42ba-5fdb-4477-a6b1-4ff31c16beb6",
   "metadata": {},
   "source": [
    "This histogram is less uniform, but may be **more meaningful depending on the context**.  \n",
    "Custom bins allow us to tell a story that fits the question we want to answer.\n",
    "\n",
    "From above histogram we see the raw **counts** of movies in each age group.  \n",
    "About 60 movies are between 40–65 years old — the largest group.  \n",
    "This view answers the question: *\"How many movies are in each bin?\"*"
   ]
  },
  {
   "cell_type": "markdown",
   "id": "f0e2fa2b-54ae-42c7-9f1a-89864ca6864b",
   "metadata": {},
   "source": [
    "⚠️ **Note:** By default, `sns.histplot` uses `stat=\"count\"`, so bars show counts, not densities.    "
   ]
  },
  {
   "cell_type": "markdown",
   "id": "51ca0fe7-4019-49c9-b76a-f9b670790a72",
   "metadata": {},
   "source": [
    "**Percent vs Count**: By default, histograms show **counts**.  \n",
    "\n",
    "Sometimes it is more intuitive to look at the **percentage of total movies** in each bin.  \n",
    "\n",
    "We can use `stat='percent'`."
   ]
  },
  {
   "cell_type": "code",
   "execution_count": null,
   "id": "1b4a2db3",
   "metadata": {},
   "outputs": [],
   "source": [
    "sns.histplot(data=movies, x='Age',stat='percent',bins=my_bins)"
   ]
  },
  {
   "cell_type": "markdown",
   "id": "1329e620-a9dd-4d6d-bafe-e5a3cc8f3eae",
   "metadata": {},
   "source": [
    "Now the y-axis is in **percent** instead of raw counts. But **the shape is same as \"count\"above**.\n",
    "\n",
    "This is better for comparing across datasets of different sizes, since the total always sums to 100%."
   ]
  },
  {
   "cell_type": "markdown",
   "id": "fbbcde36-d4b7-44b3-b3ce-96bc09074151",
   "metadata": {},
   "source": [
    "**Density vs Count**：Another option is `stat='density'`.  \n",
    "\n",
    "This scales the histogram so that the **total area = 1**, which is useful when comparing to probability distributions."
   ]
  },
  {
   "cell_type": "code",
   "execution_count": null,
   "id": "6d1e1b75",
   "metadata": {},
   "outputs": [],
   "source": [
    "sns.histplot(data=movies, x='Age',stat='density',bins=my_bins)"
   ]
  },
  {
   "cell_type": "markdown",
   "id": "17db3250-e5bb-4a7e-8c4c-c79ddb069f70",
   "metadata": {},
   "source": [
    "Now the histogram can be interpreted as an **approximation of a probability distribution**.  \n",
    "This is often used when we want to compare data with a **theoretical model** (e.g., Normal distribution).\n",
    "\n",
    "The above histogram is scaled so the **total area = 1**.  \n",
    "The highest density is around 20–30, showing that this is the most common age range.  \n",
    "This view highlights the **shape of the distribution**, useful when comparing with probability models."
   ]
  },
  {
   "cell_type": "markdown",
   "id": "d1f81cce-a441-4536-b0ce-d825c3850104",
   "metadata": {},
   "source": [
    "**Summary: Count vs Percent vs Density**\n",
    "\n",
    "- **Count (default)** → Shows raw number of observations in each bin.  \n",
    "  👉 Good when the dataset size is fixed and absolute numbers matter.\n",
    "\n",
    "- **Percent (`stat='percent'`)** → Shows proportion of observations in each bin. (Same shape as Count)   \n",
    "  👉 Good for comparing datasets of different sizes, since everything scales to 100%.\n",
    "\n",
    "- **Density (`stat='density'`)** → Scales so total area = 1.  \n",
    "  👉 Good when comparing to probability distributions or doing statistical modeling.\n",
    "\n",
    "⚠️ Choosing the right option depends on the **story you want to tell** with the data."
   ]
  },
  {
   "cell_type": "markdown",
   "id": "e09fef05-802d-414a-9c52-effc721d2b3d",
   "metadata": {},
   "source": [
    "**Let’s switch to a different dataset: incomes of top female actors in 2022.**"
   ]
  },
  {
   "cell_type": "code",
   "execution_count": null,
   "id": "871858bd",
   "metadata": {},
   "outputs": [],
   "source": [
    "incomes = pd.read_csv('2022_female_actors.csv')\n",
    "incomes.head()"
   ]
  },
  {
   "cell_type": "markdown",
   "id": "ee730ef8-83b0-4595-b57f-5af86cb5da8c",
   "metadata": {},
   "source": [
    "This dataset has two columns: `Name` and `Income (millions)`. \n",
    "\n",
    "Quickly summarize the income column using `.describe()`."
   ]
  },
  {
   "cell_type": "code",
   "execution_count": null,
   "id": "5f1daa21",
   "metadata": {},
   "outputs": [],
   "source": [
    "incomes.describe()"
   ]
  },
  {
   "cell_type": "markdown",
   "id": "78f37dd5-781b-4691-b88e-af2593ba2482",
   "metadata": {},
   "source": [
    "We learn that:  \n",
    "- Average income ≈ **26.5M**.  \n",
    "- Range: from **12.5M** to **56M**.  \n",
    "- Middle 50% fall between **21M–30M**.  \n",
    "This helps us know what values to expect in the histogram."
   ]
  },
  {
   "cell_type": "markdown",
   "id": "9f551fa4-6c43-41a1-af9c-9894634f2d50",
   "metadata": {},
   "source": [
    "Let’s first plot incomes using 10 equal-width bins."
   ]
  },
  {
   "cell_type": "code",
   "execution_count": null,
   "id": "87663cf9",
   "metadata": {},
   "outputs": [],
   "source": [
    "sns.histplot( incomes, bins=10)"
   ]
  },
  {
   "cell_type": "markdown",
   "id": "87b7a28a-fb6c-4cca-b890-49467e3f6900",
   "metadata": {},
   "source": [
    "Most actors earn in the **22–26M** range. However, the shape depends heavily on how bins are chosen."
   ]
  },
  {
   "cell_type": "markdown",
   "id": "ef092216-b401-4cfa-87fa-0e8903c4b9fe",
   "metadata": {},
   "source": [
    "Now let’s force the bins to be every 6 million.  \n",
    "This gives us finer control over the histogram."
   ]
  },
  {
   "cell_type": "code",
   "execution_count": null,
   "id": "18f992d7",
   "metadata": {},
   "outputs": [],
   "source": [
    "sns.histplot( incomes, bins=range(0,61,6)) # very different than above!"
   ]
  },
  {
   "cell_type": "markdown",
   "id": "a45e933d-8f8e-47cc-93e6-b0b985ab8176",
   "metadata": {},
   "source": [
    "we see clustering around **18–36M**.  \n",
    "⚠️ This shows how **bin width (and where the bins start) affects interpretation**."
   ]
  },
  {
   "cell_type": "markdown",
   "id": "adf0bda7-cf6e-4cef-b145-6a08b4830e99",
   "metadata": {},
   "source": [
    "Instead of evenly spaced bins, we can **manually define income groups**.  \n",
    "Here we split incomes into three categories: 0–25M, 25–30M, and 30–60M."
   ]
  },
  {
   "cell_type": "code",
   "execution_count": null,
   "id": "2b979386",
   "metadata": {},
   "outputs": [],
   "source": [
    "my_bins = [0, 25, 30, 60]\n",
    "sns.histplot( incomes, bins=my_bins)"
   ]
  },
  {
   "cell_type": "markdown",
   "id": "b1e1782d-4454-4a91-a170-01c0799edf7d",
   "metadata": {},
   "source": [
    "Now the histogram shows very uneven bin widths with y-axis to be counts. But we must be careful—unequal bins can make interpretation tricky."
   ]
  },
  {
   "cell_type": "markdown",
   "id": "79aaf7e3-2330-489c-8680-1ce11bfe337f",
   "metadata": {},
   "source": [
    "We usually combine manual bins with `stat='density'` to interpret the histogram as a probability distribution."
   ]
  },
  {
   "cell_type": "code",
   "execution_count": null,
   "id": "87ed6312",
   "metadata": {},
   "outputs": [],
   "source": [
    "sns.histplot( incomes, bins=my_bins, stat='density')"
   ]
  },
  {
   "cell_type": "markdown",
   "id": "9ce0f32d-e4a1-443d-ac97-3fc2a22a1981",
   "metadata": {},
   "source": [
    "Here the total area = 1, and the tallest bar (~0.04) means that  \n",
    "the **25–30M range** has the highest probability density.  \n",
    "This view emphasizes the **shape of the distribution** rather than raw counts."
   ]
  },
  {
   "cell_type": "markdown",
   "id": "28bfd9ff-6696-47e4-a5bf-d05ed355213a",
   "metadata": {},
   "source": [
    "**Comparing Count vs Density (with unequal bins)**\n",
    "\n",
    "- **Count:**  \n",
    "  The y-axis shows the *number of actors* in each income bin.  \n",
    "  👉 Most actors fall in the **0–25M** range, so this bin is tallest in the count view.\n",
    "\n",
    "- **Density:**  \n",
    "  The y-axis shows *probability density*, scaled so that the total area = 1.  \n",
    "  👉 Even though the 25–30M bin is narrow, it still contains several actors.  \n",
    "  This makes its **density the highest (~0.04)**, meaning a random actor is most likely to fall into this range. Area is also meaningful here.\n",
    "\n",
    "  Dr. Jia's suggestion/preference: **for unequal-bins, use Density**. "
   ]
  }
 ],
 "metadata": {
  "kernelspec": {
   "display_name": "Python 3 (ipykernel)",
   "language": "python",
   "name": "python3"
  },
  "language_info": {
   "codemirror_mode": {
    "name": "ipython",
    "version": 3
   },
   "file_extension": ".py",
   "mimetype": "text/x-python",
   "name": "python",
   "nbconvert_exporter": "python",
   "pygments_lexer": "ipython3",
   "version": "3.12.6"
  }
 },
 "nbformat": 4,
 "nbformat_minor": 5
}
