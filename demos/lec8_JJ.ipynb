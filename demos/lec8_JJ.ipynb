{
 "cells": [
  {
   "cell_type": "code",
   "execution_count": null,
   "id": "9b481d4e-4ccd-4bb2-8ace-2250129518a3",
   "metadata": {},
   "outputs": [],
   "source": [
    "import seaborn as sns\n",
    "import pandas as pd"
   ]
  },
  {
   "cell_type": "markdown",
   "id": "ae0ecdab-6645-494a-b2e0-59d068117bc7",
   "metadata": {},
   "source": [
    "# line plot"
   ]
  },
  {
   "cell_type": "markdown",
   "id": "474f0212-a701-4783-9db5-28bb2fc04adb",
   "metadata": {},
   "source": [
    "First, we load the GameStop stock price data directly from the CSV file.  "
   ]
  },
  {
   "cell_type": "code",
   "execution_count": null,
   "id": "59f7121c-7bfe-4313-8df1-d6f2de36076c",
   "metadata": {},
   "outputs": [],
   "source": [
    "gme = pd.read_csv('gamestop.csv')\n",
    "gme"
   ]
  },
  {
   "cell_type": "markdown",
   "id": "8ca21995-3d40-4073-885b-1b4df73a2532",
   "metadata": {},
   "source": [
    "Notice that the `Date` column is currently read as plain text (string), **not as a true datetime type**"
   ]
  },
  {
   "cell_type": "code",
   "execution_count": null,
   "id": "0298b1a8-fe80-4bee-b2e4-03a7b0747874",
   "metadata": {},
   "outputs": [],
   "source": [
    "gme.dtypes"
   ]
  },
  {
   "cell_type": "markdown",
   "id": "657bfb7a-e828-403a-88d0-93a564b2c88b",
   "metadata": {},
   "source": [
    "**When we plot it, Seaborn will just treat the dates as generic labels.  \n",
    "This often makes the x-axis messy and unreadable for time series data.**"
   ]
  },
  {
   "cell_type": "code",
   "execution_count": null,
   "id": "9d7ff9d5-4163-4e0e-9188-30c9b5ef03e3",
   "metadata": {},
   "outputs": [],
   "source": [
    "sns.lineplot(data=gme, x='Date', y='Open')"
   ]
  },
  {
   "cell_type": "markdown",
   "id": "5555de27-e3ec-4bc8-890d-5dbb33c76bbd",
   "metadata": {},
   "source": [
    "The plot works, but the x-axis labels are cluttered because Python does not yet recognize the `Date` column as actual time values."
   ]
  },
  {
   "cell_type": "markdown",
   "id": "a5b2c5b5-69d2-4568-966d-bd3d36b55143",
   "metadata": {},
   "source": [
    "Now we reload the data, this time telling pandas to:  \n",
    "- **parse the `Date` column as datetime objects**, and  \n",
    "- **use `Date` as the DataFrame index**.\n",
    "  \n",
    "This way, Python knows we are working with time series data:"
   ]
  },
  {
   "cell_type": "code",
   "execution_count": null,
   "id": "9eb4ee17-5688-4de1-ac95-78b79d1a4d6c",
   "metadata": {},
   "outputs": [],
   "source": [
    "gme = pd.read_csv('gamestop.csv', \n",
    "                  index_col=\"Date\", \n",
    "                  parse_dates=True)\n",
    "gme"
   ]
  },
  {
   "cell_type": "code",
   "execution_count": null,
   "id": "43d3307c-f634-4a52-b770-9da9e129a0f2",
   "metadata": {},
   "outputs": [],
   "source": [
    "gme.index\n",
    "# gme.index.dtype # You can also try this"
   ]
  },
  {
   "cell_type": "markdown",
   "id": "04313029-5dc4-4686-a80f-aa3af88a6d8d",
   "metadata": {},
   "source": [
    "This shows the index type (should be DatetimeIndex if parsed correctly).\n",
    "Make the plot again:"
   ]
  },
  {
   "cell_type": "code",
   "execution_count": null,
   "id": "2cce22d7-78a0-4509-8627-d0d5ed0c508d",
   "metadata": {},
   "outputs": [],
   "source": [
    "sns.lineplot(data=gme, x='Date', y='Open')"
   ]
  },
  {
   "cell_type": "markdown",
   "id": "22a42fc9-9a9c-4f95-827d-bb2d44308851",
   "metadata": {},
   "source": [
    "Now the x-axis shows years in order (2004, 2008, … 2024).  \n",
    "This makes the time series trend much clearer and is the standard way to work with stock data."
   ]
  },
  {
   "cell_type": "markdown",
   "id": "fd2ed4ae-a610-436a-8dcf-fd46920470fb",
   "metadata": {},
   "source": [
    "# scatter plot "
   ]
  },
  {
   "cell_type": "code",
   "execution_count": null,
   "id": "9cc7afe7-346c-44a8-bd36-aea77b49d4c1",
   "metadata": {},
   "outputs": [],
   "source": [
    "dugong = pd.read_csv('dugong.csv')\n",
    "dugong"
   ]
  },
  {
   "cell_type": "code",
   "execution_count": null,
   "id": "37a4f601-50bf-40a5-a5c8-f755226254d5",
   "metadata": {},
   "outputs": [],
   "source": [
    "sns.scatterplot(data=dugong, x='Age', y='Length')"
   ]
  },
  {
   "cell_type": "markdown",
   "id": "2edaa767-af81-4aab-9aaa-0e0cc33cb336",
   "metadata": {},
   "source": [
    "# plot with groupby"
   ]
  },
  {
   "cell_type": "markdown",
   "id": "a8469843-5110-4900-9e95-dec82dbd93ce",
   "metadata": {},
   "source": [
    "**Spirit of plot with groupby**: first summarize the data by groups, then visualize the aggregated results for comparison."
   ]
  },
  {
   "cell_type": "markdown",
   "id": "f7b2c7be-6a60-4c04-b49c-fd9064767ccc",
   "metadata": {},
   "source": [
    "**Our goal: count how many movies appear in the dataset for each year, and then visualize the results**\n",
    "\n",
    "First summarize the data by groups (here by `Year`), then plot the aggregated results."
   ]
  },
  {
   "cell_type": "code",
   "execution_count": null,
   "id": "d730c841-c821-4dff-bb86-ebae66649d7e",
   "metadata": {},
   "outputs": [],
   "source": [
    "movies = pd.read_csv('top_movies_2017.csv')\n",
    "movies"
   ]
  },
  {
   "cell_type": "code",
   "execution_count": null,
   "id": "e2ecead7-9264-41d1-897d-004c60554578",
   "metadata": {},
   "outputs": [],
   "source": [
    "# Count how many movies per year\n",
    "counts = movies.groupby('Year').Title.count()\n",
    "#counts = movies.groupby('Year').Title.nunique()    # Alternative: .nunique() to count unique titles\n",
    "\n",
    "counts"
   ]
  },
  {
   "cell_type": "markdown",
   "id": "38bc870c-ba4a-4967-bfe4-a6487e71e6d4",
   "metadata": {},
   "source": [
    "Now `counts` shows the number of movies for each year.  \n",
    "Next, we plot these counts to visualize trends over time."
   ]
  },
  {
   "cell_type": "code",
   "execution_count": null,
   "id": "ccbb82aa-f7d3-42ac-ae63-0481d7d42efc",
   "metadata": {},
   "outputs": [],
   "source": [
    "sns.lineplot(data=counts)"
   ]
  },
  {
   "cell_type": "markdown",
   "id": "52cb2b6a-630e-4df5-98c4-e8bbbf24039d",
   "metadata": {},
   "source": [
    "&uarr; Looks like before 1960, Hollywood was sleepy(1-2 movies)... but after 2000, blockbusters just exploded!"
   ]
  },
  {
   "cell_type": "markdown",
   "id": "8df1d6db-30f6-4101-bf5a-2f8535b68af6",
   "metadata": {},
   "source": [
    "**Comparing raw gross vs adjusted gross**\n",
    "\n",
    "When we first look at the **raw gross revenue** of movies over time,  \n",
    "it seems like movies are making more and more money every year.  \n",
    "But is that really true, or is inflation playing a role?"
   ]
  },
  {
   "cell_type": "code",
   "execution_count": null,
   "id": "6a595650-42dc-41ba-bac7-d386a0e57488",
   "metadata": {},
   "outputs": [],
   "source": [
    "avg_gross = movies.groupby('Year').Gross.mean()\n",
    "sns.scatterplot(data=avg_gross)"
   ]
  },
  {
   "cell_type": "markdown",
   "id": "51d39d62-35cf-42e7-9565-b4e091bb190a",
   "metadata": {},
   "source": [
    "##### The raw numbers show a clear upward trend, but this might be misleading,  \n",
    "because dollars in 1939 are not worth the same as dollars in 2025."
   ]
  },
  {
   "cell_type": "markdown",
   "id": "1f2170a5-5ced-4b1a-9d67-e7ea7c56365b",
   "metadata": {},
   "source": [
    "To account for inflation, we use the **adjusted gross revenue**.  \n",
    "This allows us to compare movie earnings across decades on the same scale."
   ]
  },
  {
   "cell_type": "code",
   "execution_count": null,
   "id": "8c23bda0-2707-4863-b4d7-abb0db7eab4c",
   "metadata": {},
   "outputs": [],
   "source": [
    "avg_gross = movies.groupby('Year')['Gross (Adjusted)'].mean()\n",
    "sns.scatterplot(data=avg_gross)"
   ]
  },
  {
   "cell_type": "markdown",
   "id": "13b05508-b689-4ef8-858c-1f22ce161fc9",
   "metadata": {},
   "source": [
    "After adjusting for inflation, the upward trend disappears.  \n",
    "Now we see that old classics like *Gone with the Wind* remain among the highest earners,  \n",
    "and recent movies are not necessarily \"bigger\" once we correct for the value of money.  \n",
    "\n",
    "**Key lesson:** Always check whether you need to adjust for inflation when comparing money across time."
   ]
  },
  {
   "cell_type": "markdown",
   "id": "3c81dc34-b4b8-4cce-8857-e5eac680951a",
   "metadata": {},
   "source": [
    "# Plotting more than two variables"
   ]
  },
  {
   "cell_type": "code",
   "execution_count": null,
   "id": "e8da799a-5c16-466a-b8a2-3dd9ae2aeba4",
   "metadata": {},
   "outputs": [],
   "source": [
    "penguins = pd.read_csv('palmer_penguins.csv')\n",
    "penguins.head()"
   ]
  },
  {
   "cell_type": "code",
   "execution_count": null,
   "id": "2f4ecd9e-c4be-4070-9fee-8422dc5d1c0f",
   "metadata": {},
   "outputs": [],
   "source": [
    "sns.scatterplot(data=penguins, x='Culmen Length (mm)', y='Culmen Depth (mm)', hue='Flipper Length (mm)')"
   ]
  },
  {
   "cell_type": "code",
   "execution_count": null,
   "id": "cb1fd996-1ca6-4d99-bea8-592ced22f776",
   "metadata": {},
   "outputs": [],
   "source": [
    "sns.scatterplot(data=penguins, x='Culmen Length (mm)', y='Culmen Depth (mm)', hue='Species')"
   ]
  },
  {
   "cell_type": "code",
   "execution_count": null,
   "id": "762f99a6-8303-4f99-9af4-9d6a67ef364b",
   "metadata": {},
   "outputs": [],
   "source": [
    "sns.scatterplot(data=penguins, x='Culmen Length (mm)', y='Culmen Depth (mm)', hue='Species', size='Body Mass (g)')"
   ]
  },
  {
   "cell_type": "code",
   "execution_count": null,
   "id": "35085ec7-4e07-45b4-8e18-b90d5bca2300",
   "metadata": {},
   "outputs": [],
   "source": [
    "sns.scatterplot(data=penguins, x='Culmen Length (mm)', y='Culmen Depth (mm)', hue='Flipper Length (mm)', style='Sex')"
   ]
  },
  {
   "cell_type": "code",
   "execution_count": null,
   "id": "3e35d29f-1546-4be9-bff9-4a085f207d48",
   "metadata": {},
   "outputs": [],
   "source": [
    "sns.relplot(\n",
    "\tdata=penguins, x='Culmen Length (mm)', y='Culmen Depth (mm)',\n",
    "\tcol=\"Sex\", row='Species', hue='Flipper Length (mm)',\n",
    "\tkind=\"scatter\"\n",
    ")"
   ]
  },
  {
   "cell_type": "markdown",
   "id": "bcea42f3-9e9d-4503-90e7-97b479e23be3",
   "metadata": {},
   "source": [
    "### Summary: Adding more variables to scatter plots\n",
    "- **Numerical**: use color (hue) or marker size\n",
    "- **Categorical**: use color (hue), marker style, or facet (rows/cols, best for 2–3 categories)"
   ]
  }
 ],
 "metadata": {
  "kernelspec": {
   "display_name": "Python 3 (ipykernel)",
   "language": "python",
   "name": "python3"
  },
  "language_info": {
   "codemirror_mode": {
    "name": "ipython",
    "version": 3
   },
   "file_extension": ".py",
   "mimetype": "text/x-python",
   "name": "python",
   "nbconvert_exporter": "python",
   "pygments_lexer": "ipython3",
   "version": "3.12.6"
  }
 },
 "nbformat": 4,
 "nbformat_minor": 5
}
